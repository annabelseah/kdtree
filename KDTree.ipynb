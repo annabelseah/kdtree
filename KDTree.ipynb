{
 "cells": [
  {
   "cell_type": "markdown",
   "metadata": {},
   "source": [
    "## Load libraries"
   ]
  },
  {
   "cell_type": "code",
   "execution_count": 46,
   "metadata": {},
   "outputs": [],
   "source": [
    "import numpy as np\n",
    "import requests\n",
    "import json\n",
    "import pandas as pd"
   ]
  },
  {
   "cell_type": "markdown",
   "metadata": {},
   "source": [
    "## Read in file"
   ]
  },
  {
   "cell_type": "code",
   "execution_count": 47,
   "metadata": {},
   "outputs": [],
   "source": [
    "bible = pd.read_csv(\"BinCentresInspections_Mar_Dec_2020_XY.csv\")"
   ]
  },
  {
   "cell_type": "code",
   "execution_count": 48,
   "metadata": {},
   "outputs": [
    {
     "name": "stdout",
     "output_type": "stream",
     "text": [
      "<class 'pandas.core.frame.DataFrame'>\n",
      "RangeIndex: 3243 entries, 0 to 3242\n",
      "Data columns (total 8 columns):\n",
      " #   Column          Non-Null Count  Dtype  \n",
      "---  ------          --------------  -----  \n",
      " 0   address         3243 non-null   object \n",
      " 1   Latitude        3243 non-null   float64\n",
      " 2   Longitude       3243 non-null   float64\n",
      " 3   Postal Code     3238 non-null   object \n",
      " 4   Town Council    3243 non-null   object \n",
      " 5   Date Of Survey  3243 non-null   object \n",
      " 6   x_new           3242 non-null   float64\n",
      " 7   y_new           3242 non-null   float64\n",
      "dtypes: float64(4), object(4)\n",
      "memory usage: 202.8+ KB\n"
     ]
    }
   ],
   "source": [
    "bible.head()\n",
    "bible.info()\n",
    "bible[\"Latitude\"]=bible[\"Latitude\"].astype(float)\n",
    "bible[\"Longitude\"]=bible[\"Longitude\"].astype(float)"
   ]
  },
  {
   "cell_type": "markdown",
   "metadata": {},
   "source": [
    "Do some data cleaning"
   ]
  },
  {
   "cell_type": "code",
   "execution_count": 49,
   "metadata": {},
   "outputs": [
    {
     "name": "stdout",
     "output_type": "stream",
     "text": [
      "<class 'pandas.core.frame.DataFrame'>\n",
      "RangeIndex: 2417 entries, 0 to 2416\n",
      "Data columns (total 9 columns):\n",
      " #   Column          Non-Null Count  Dtype  \n",
      "---  ------          --------------  -----  \n",
      " 0   index           2417 non-null   int64  \n",
      " 1   address         2417 non-null   object \n",
      " 2   Latitude        2417 non-null   float64\n",
      " 3   Longitude       2417 non-null   float64\n",
      " 4   Postal Code     2413 non-null   object \n",
      " 5   Town Council    2417 non-null   object \n",
      " 6   Date Of Survey  2417 non-null   object \n",
      " 7   x_new           2416 non-null   float64\n",
      " 8   y_new           2416 non-null   float64\n",
      "dtypes: float64(4), int64(1), object(4)\n",
      "memory usage: 170.1+ KB\n"
     ]
    }
   ],
   "source": [
    "bible_set = bible.drop_duplicates([\"address\",\"Latitude\",\"Longitude\"])\n",
    "bible_set.reset_index(inplace=True)\n",
    "bible_set.info()\n"
   ]
  },
  {
   "cell_type": "markdown",
   "metadata": {},
   "source": [
    "Write function to convert XY to Lat and Long"
   ]
  },
  {
   "cell_type": "code",
   "execution_count": 50,
   "metadata": {},
   "outputs": [],
   "source": [
    "#need to do the conversion to get lat/long for the old file\n",
    "def xy_to_latlong(x,y):\n",
    "    x,y=x,y\n",
    "    query_string=f\"https://developers.onemap.sg/commonapi/convert/3414to4326?X={x}&Y={y}\"\n",
    "    query_string\n",
    "    resp = requests.get(query_string)\n",
    "    data=json.loads(resp.content)\n",
    "    if data:\n",
    "        return(data[\"latitude\"],data[\"longitude\"])\n",
    "\n",
    "    else:\n",
    "        return(np.nan,np.nan)"
   ]
  },
  {
   "cell_type": "code",
   "execution_count": 51,
   "metadata": {},
   "outputs": [
    {
     "data": {
      "text/plain": [
       "(1.4315267319894855, 103.82841985785846)"
      ]
     },
     "execution_count": 51,
     "metadata": {},
     "output_type": "execute_result"
    }
   ],
   "source": [
    "xy_to_latlong(27454.84598,45916.47028)"
   ]
  },
  {
   "cell_type": "markdown",
   "metadata": {},
   "source": [
    "Read in the bible dataset"
   ]
  },
  {
   "cell_type": "code",
   "execution_count": 9,
   "metadata": {},
   "outputs": [
    {
     "name": "stderr",
     "output_type": "stream",
     "text": [
      "C:\\Users\\User\\Anaconda3\\lib\\site-packages\\ipykernel_launcher.py:5: SettingWithCopyWarning: \n",
      "A value is trying to be set on a copy of a slice from a DataFrame\n",
      "\n",
      "See the caveats in the documentation: https://pandas.pydata.org/pandas-docs/stable/user_guide/indexing.html#returning-a-view-versus-a-copy\n",
      "  \"\"\"\n"
     ]
    }
   ],
   "source": [
    "masterframe = pd.read_csv(\"New_Bin_Centres_2.csv\",na_values=[\"NA\",\"\",\"-\"])\n",
    "\n"
   ]
  },
  {
   "cell_type": "code",
   "execution_count": 11,
   "metadata": {},
   "outputs": [
    {
     "data": {
      "text/plain": [
       "(1083, 68)"
      ]
     },
     "execution_count": 11,
     "metadata": {},
     "output_type": "execute_result"
    }
   ],
   "source": [
    "#filter to binary check = False and drop rows with postal_check = NA\n",
    "input_file = masterframe[masterframe[\"binary_check\"]==False]\n",
    "input_file.dropna(subset=[\"postal_check\"],inplace=True)\n",
    "input_file.shape\n",
    "input_file.drop_duplicates([\"X.output\",\"Y.output\"],inplace=True)"
   ]
  },
  {
   "cell_type": "markdown",
   "metadata": {},
   "source": [
    "The above code and converting from XY to Lat Long can take awhile, I've already saved the results and you can load it from this file"
   ]
  },
  {
   "cell_type": "code",
   "execution_count": 76,
   "metadata": {},
   "outputs": [],
   "source": [
    "input_file = pd.read_csv(\"input_new.csv\")"
   ]
  },
  {
   "cell_type": "code",
   "execution_count": 77,
   "metadata": {},
   "outputs": [
    {
     "data": {
      "text/plain": [
       "(1083, 71)"
      ]
     },
     "execution_count": 77,
     "metadata": {},
     "output_type": "execute_result"
    }
   ],
   "source": [
    "input_file.shape"
   ]
  },
  {
   "cell_type": "code",
   "execution_count": 78,
   "metadata": {},
   "outputs": [],
   "source": [
    "input_new.drop_duplicates([\"X.output\",\"Y.output\"],inplace=True)"
   ]
  },
  {
   "cell_type": "markdown",
   "metadata": {},
   "source": [
    "### KDTree"
   ]
  },
  {
   "cell_type": "code",
   "execution_count": 55,
   "metadata": {},
   "outputs": [],
   "source": [
    "from sklearn.neighbors import BallTree, DistanceMetric"
   ]
  },
  {
   "cell_type": "code",
   "execution_count": 56,
   "metadata": {},
   "outputs": [],
   "source": [
    "dist = DistanceMetric.get_metric('haversine')"
   ]
  },
  {
   "cell_type": "code",
   "execution_count": 57,
   "metadata": {},
   "outputs": [],
   "source": [
    "bible_tree = BallTree(np.radians(bible_set[[\"Latitude\",\"Longitude\"]]), metric=dist)"
   ]
  },
  {
   "cell_type": "code",
   "execution_count": 58,
   "metadata": {},
   "outputs": [],
   "source": [
    "coords = np.radians(input_new[['latitude_new', 'longitude_new']])"
   ]
  },
  {
   "cell_type": "code",
   "execution_count": 59,
   "metadata": {},
   "outputs": [],
   "source": [
    "dists, ilocs = bible_tree.query(coords)"
   ]
  },
  {
   "cell_type": "code",
   "execution_count": 60,
   "metadata": {},
   "outputs": [],
   "source": [
    "input_new['dist'] = dists.flatten() * 6367"
   ]
  },
  {
   "cell_type": "code",
   "execution_count": 73,
   "metadata": {},
   "outputs": [
    {
     "data": {
      "text/html": [
       "<div>\n",
       "<style scoped>\n",
       "    .dataframe tbody tr th:only-of-type {\n",
       "        vertical-align: middle;\n",
       "    }\n",
       "\n",
       "    .dataframe tbody tr th {\n",
       "        vertical-align: top;\n",
       "    }\n",
       "\n",
       "    .dataframe thead th {\n",
       "        text-align: right;\n",
       "    }\n",
       "</style>\n",
       "<table border=\"1\" class=\"dataframe\">\n",
       "  <thead>\n",
       "    <tr style=\"text-align: right;\">\n",
       "      <th></th>\n",
       "      <th>index</th>\n",
       "      <th>address</th>\n",
       "      <th>Latitude</th>\n",
       "      <th>Longitude</th>\n",
       "      <th>Postal Code</th>\n",
       "      <th>Town Council</th>\n",
       "      <th>Date Of Survey</th>\n",
       "      <th>x_new</th>\n",
       "      <th>y_new</th>\n",
       "    </tr>\n",
       "  </thead>\n",
       "  <tbody>\n",
       "    <tr>\n",
       "      <th>0</th>\n",
       "      <td>0</td>\n",
       "      <td>Blk 330 Serangoon Ave 3</td>\n",
       "      <td>1.34990</td>\n",
       "      <td>103.87002</td>\n",
       "      <td>550330</td>\n",
       "      <td>MPTC</td>\n",
       "      <td>30/9/2020 0:00</td>\n",
       "      <td>32084.49460</td>\n",
       "      <td>36890.70402</td>\n",
       "    </tr>\n",
       "    <tr>\n",
       "      <th>1</th>\n",
       "      <td>1</td>\n",
       "      <td>Blk 330 Serangoon Ave 3</td>\n",
       "      <td>1.35009</td>\n",
       "      <td>103.87004</td>\n",
       "      <td>550330</td>\n",
       "      <td>SERO</td>\n",
       "      <td>3/6/2020 0:00</td>\n",
       "      <td>32086.72006</td>\n",
       "      <td>36911.71329</td>\n",
       "    </tr>\n",
       "    <tr>\n",
       "      <th>2</th>\n",
       "      <td>3</td>\n",
       "      <td>Blk 24 Hougang Avenue 3</td>\n",
       "      <td>1.36488</td>\n",
       "      <td>103.89220</td>\n",
       "      <td>530024</td>\n",
       "      <td>AHTC</td>\n",
       "      <td>24/12/2020</td>\n",
       "      <td>34552.84082</td>\n",
       "      <td>38547.16538</td>\n",
       "    </tr>\n",
       "    <tr>\n",
       "      <th>3</th>\n",
       "      <td>4</td>\n",
       "      <td>Blk 24 Hougang Avenue 3</td>\n",
       "      <td>1.36492</td>\n",
       "      <td>103.89212</td>\n",
       "      <td>530024</td>\n",
       "      <td>AHTC</td>\n",
       "      <td>25/8/2020 0:00</td>\n",
       "      <td>34543.93766</td>\n",
       "      <td>38551.58816</td>\n",
       "    </tr>\n",
       "    <tr>\n",
       "      <th>4</th>\n",
       "      <td>5</td>\n",
       "      <td>Blk 319 Jurong East Street 31</td>\n",
       "      <td>1.34810</td>\n",
       "      <td>103.73047</td>\n",
       "      <td>600319</td>\n",
       "      <td>SWRO</td>\n",
       "      <td>11/5/2020 0:00</td>\n",
       "      <td>16554.12724</td>\n",
       "      <td>36691.88018</td>\n",
       "    </tr>\n",
       "  </tbody>\n",
       "</table>\n",
       "</div>"
      ],
      "text/plain": [
       "   index                         address  Latitude  Longitude Postal Code  \\\n",
       "0      0        Blk 330 Serangoon Ave 3    1.34990  103.87002      550330   \n",
       "1      1        Blk 330 Serangoon Ave 3    1.35009  103.87004      550330   \n",
       "2      3         Blk 24 Hougang Avenue 3   1.36488  103.89220      530024   \n",
       "3      4         Blk 24 Hougang Avenue 3   1.36492  103.89212      530024   \n",
       "4      5   Blk 319 Jurong East Street 31   1.34810  103.73047      600319   \n",
       "\n",
       "  Town Council  Date Of Survey        x_new        y_new  \n",
       "0         MPTC  30/9/2020 0:00  32084.49460  36890.70402  \n",
       "1         SERO   3/6/2020 0:00  32086.72006  36911.71329  \n",
       "2         AHTC      24/12/2020  34552.84082  38547.16538  \n",
       "3         AHTC  25/8/2020 0:00  34543.93766  38551.58816  \n",
       "4         SWRO  11/5/2020 0:00  16554.12724  36691.88018  "
      ]
     },
     "execution_count": 73,
     "metadata": {},
     "output_type": "execute_result"
    }
   ],
   "source": [
    "bible_set.head()"
   ]
  },
  {
   "cell_type": "code",
   "execution_count": 64,
   "metadata": {},
   "outputs": [],
   "source": [
    "input_new['nearest_bin'] = bible_set.iloc[ilocs.flatten()]['index'].values"
   ]
  },
  {
   "cell_type": "markdown",
   "metadata": {},
   "source": [
    "Merge 2 files together"
   ]
  },
  {
   "cell_type": "code",
   "execution_count": 65,
   "metadata": {},
   "outputs": [],
   "source": [
    "nearest_bin = pd.merge(input_new,bible_set,left_on=[\"nearest_bin\"],right_on=[\"index\"])"
   ]
  },
  {
   "cell_type": "code",
   "execution_count": 75,
   "metadata": {},
   "outputs": [
    {
     "data": {
      "text/html": [
       "<div>\n",
       "<style scoped>\n",
       "    .dataframe tbody tr th:only-of-type {\n",
       "        vertical-align: middle;\n",
       "    }\n",
       "\n",
       "    .dataframe tbody tr th {\n",
       "        vertical-align: top;\n",
       "    }\n",
       "\n",
       "    .dataframe thead th {\n",
       "        text-align: right;\n",
       "    }\n",
       "</style>\n",
       "<table border=\"1\" class=\"dataframe\">\n",
       "  <thead>\n",
       "    <tr style=\"text-align: right;\">\n",
       "      <th></th>\n",
       "      <th>address_x</th>\n",
       "      <th>dist</th>\n",
       "      <th>nearest_bin</th>\n",
       "    </tr>\n",
       "  </thead>\n",
       "  <tbody>\n",
       "    <tr>\n",
       "      <th>0</th>\n",
       "      <td>Blk 112 Yishun Ring Road</td>\n",
       "      <td>0.097023</td>\n",
       "      <td>385</td>\n",
       "    </tr>\n",
       "    <tr>\n",
       "      <th>1</th>\n",
       "      <td>Blk 136 Yishun Ring Road</td>\n",
       "      <td>0.064872</td>\n",
       "      <td>537</td>\n",
       "    </tr>\n",
       "    <tr>\n",
       "      <th>2</th>\n",
       "      <td>Blk 136 Yishun Ring Rd</td>\n",
       "      <td>0.064872</td>\n",
       "      <td>537</td>\n",
       "    </tr>\n",
       "    <tr>\n",
       "      <th>3</th>\n",
       "      <td>Blk 133 Yishun St 11</td>\n",
       "      <td>0.085142</td>\n",
       "      <td>537</td>\n",
       "    </tr>\n",
       "    <tr>\n",
       "      <th>4</th>\n",
       "      <td>Blk 136 Yishun St 11</td>\n",
       "      <td>0.064872</td>\n",
       "      <td>537</td>\n",
       "    </tr>\n",
       "  </tbody>\n",
       "</table>\n",
       "</div>"
      ],
      "text/plain": [
       "                  address_x      dist  nearest_bin\n",
       "0  Blk 112 Yishun Ring Road  0.097023          385\n",
       "1  Blk 136 Yishun Ring Road  0.064872          537\n",
       "2    Blk 136 Yishun Ring Rd  0.064872          537\n",
       "3      Blk 133 Yishun St 11  0.085142          537\n",
       "4      Blk 136 Yishun St 11  0.064872          537"
      ]
     },
     "execution_count": 75,
     "metadata": {},
     "output_type": "execute_result"
    }
   ],
   "source": [
    "nearest_bin[[\"address_x\",\"dist\",\"nearest_bin\"]].head()"
   ]
  },
  {
   "cell_type": "code",
   "execution_count": 72,
   "metadata": {},
   "outputs": [],
   "source": [
    "nearest_bin.to_csv(\"nearest_bin_kdtree.csv\",index=False)"
   ]
  }
 ],
 "metadata": {
  "kernelspec": {
   "display_name": "Python 3",
   "language": "python",
   "name": "python3"
  },
  "language_info": {
   "codemirror_mode": {
    "name": "ipython",
    "version": 3
   },
   "file_extension": ".py",
   "mimetype": "text/x-python",
   "name": "python",
   "nbconvert_exporter": "python",
   "pygments_lexer": "ipython3",
   "version": "3.7.6"
  }
 },
 "nbformat": 4,
 "nbformat_minor": 4
}
